{
 "cells": [
  {
   "cell_type": "markdown",
   "metadata": {},
   "source": [
    "# Documentation of package dual_LinearAlgebra"
   ]
  },
  {
   "cell_type": "markdown",
   "metadata": {},
   "source": [
    "Load standard packages"
   ]
  },
  {
   "cell_type": "code",
   "execution_count": 6,
   "metadata": {},
   "outputs": [],
   "source": [
    "push!(LOAD_PATH, \"D:/ettore/Git/dual/julia\")\n",
    "# Start the test\n",
    "using DualNumbers, LinearAlgebra, SparseArrays, SuiteSparse"
   ]
  },
  {
   "cell_type": "code",
   "execution_count": 7,
   "metadata": {},
   "outputs": [],
   "source": [
    "using dual_LinearAlgebra"
   ]
  },
  {
   "cell_type": "markdown",
   "metadata": {},
   "source": [
    "##  dual_vec:  Form a dual vector"
   ]
  },
  {
   "cell_type": "markdown",
   "metadata": {},
   "source": [
    "Let $\\mathbf{p}$ be a vector containing the coordinates of a point on the line of action\n",
    "of a vector $\\mathbf{v}$.\n",
    "A dual vector is defined as follows: $$\\hat{\\mathbf{v}}=\\mathbf{v} + \\varepsilon \\mathbf{v}_0$$\n",
    "where $\\mathbf{v}_0= \\mathbf{p} \\times \\mathbf{v}$"
   ]
  },
  {
   "cell_type": "code",
   "execution_count": 8,
   "metadata": {},
   "outputs": [
    {
     "name": "stdout",
     "output_type": "stream",
     "text": [
      "Dual vector \n",
      "\n",
      "Dual{Float64}[1.0+0.0ɛ, 0.0+1.0ɛ, 0.0+0.0ɛ]\n"
     ]
    }
   ],
   "source": [
    "####################  dual_vec ####################\n",
    "p=[0,0,1]\n",
    "v=[1.,0,0]\n",
    "dv=dual_vec(p,v)\n",
    "println(\"Dual vector \\n\")\n",
    "println(dv)"
   ]
  },
  {
   "cell_type": "markdown",
   "metadata": {},
   "source": [
    "##  dual_decodevec:  Decode a dual vector"
   ]
  },
  {
   "cell_type": "markdown",
   "metadata": {},
   "source": [
    "Given a dual vector (dv) this function returns $\\mathbf{p}$: position vector of the point closest to the origin and $\\mathbf{v}$ array with vector components"
   ]
  },
  {
   "cell_type": "code",
   "execution_count": 9,
   "metadata": {},
   "outputs": [
    {
     "name": "stdout",
     "output_type": "stream",
     "text": [
      "[0.0, 0.0, 1.0]\n",
      "[1.0, 0.0, 0.0]\n"
     ]
    }
   ],
   "source": [
    "p1,v1=dual_decodevec(dv)\n",
    "println(p1)\n",
    "println(v1)"
   ]
  },
  {
   "cell_type": "markdown",
   "metadata": {},
   "source": [
    "## * dual_pinv: Compute the Moore-Penrose pseudoinverse of a dual matrix"
   ]
  },
  {
   "cell_type": "markdown",
   "metadata": {},
   "source": [
    "Reference: Pennestri, Valentini, de Falco,The Moore–Penrose Dual Generalized Inverse Matrix With Application \n",
    "to Kinematic Synthesis of Spatial Linkages\n",
    "July 2018 Journal of Mechanical Design 140(10)\n",
    "DOI: 10.1115/1.4040882"
   ]
  },
  {
   "cell_type": "code",
   "execution_count": 10,
   "metadata": {},
   "outputs": [
    {
     "name": "stdout",
     "output_type": "stream",
     "text": [
      "Dual Matrix dA=\n",
      "Dual{Float64}[-1.90151+1.45258ɛ 0.978303-1.69719ɛ -0.207667-0.678665ɛ; 0.305945-0.291181ɛ -0.434217-2.08823ɛ -0.443965+0.64097ɛ; 1.6759+0.38419ɛ 0.174546+0.395338ɛ -0.390481+0.875138ɛ]\n",
      "Real part of dA=\n",
      "[-1.90151 0.978303 -0.207667; 0.305945 -0.434217 -0.443965; 1.6759 0.174546 -0.390481]\n",
      "Dual part of dA=\n",
      "[1.45258 -1.69719 -0.678665; -0.291181 -2.08823 0.64097; 0.38419 0.395338 0.875138]\n",
      "Moore-Penrose pseudoinverse of dA=\n",
      "Dual{Float64}[-0.198751-0.349479ɛ -0.278169+1.4561ɛ 0.42197-0.635143ɛ; 0.502476-0.551609ɛ -0.877344+1.04549ɛ 0.730284-1.5721ɛ; -0.628407-2.84169ɛ -1.58604+2.00018ɛ -0.423461-3.2232ɛ]\n",
      "Test correctness\n",
      "Dual{Float64}[1.0+1.22125e-15ɛ 2.22045e-16-4.16334e-16ɛ 1.11022e-16-4.44089e-16ɛ; -2.22045e-16+4.44089e-15ɛ 1.0+0.0ɛ 2.22045e-16-4.44089e-16ɛ; 5.55112e-16+5.32907e-15ɛ -4.02456e-16-3.33067e-15ɛ 1.0-4.44089e-16ɛ]\n"
     ]
    }
   ],
   "source": [
    "    n = 3\n",
    "    A = randn(n,n)     # real-valued │\n",
    "    A0 = randn(n,n)     # real-valued ├─ vector\n",
    "    dA = A + ε * A0    # dual-valued │\n",
    "    println(\"Dual Matrix dA=\")\n",
    "    println(dA)\n",
    "    println(\"Real part of dA=\")\n",
    "    println(realpart.(dA))\n",
    "    println(\"Dual part of dA=\")\n",
    "    println(dualpart.(dA))\n",
    "    println(\"Moore-Penrose pseudoinverse of dA=\")\n",
    "    dG=dual_pinv(dA)\n",
    "     println(dG)\n",
    "    println(\"Test correctness\")\n",
    "   println(dG*dA)"
   ]
  }
 ],
 "metadata": {
  "@webio": {
   "lastCommId": null,
   "lastKernelId": null
  },
  "kernelspec": {
   "display_name": "Julia 1.1.1",
   "language": "julia",
   "name": "julia-1.1"
  },
  "language_info": {
   "file_extension": ".jl",
   "mimetype": "application/julia",
   "name": "julia",
   "version": "1.1.1"
  }
 },
 "nbformat": 4,
 "nbformat_minor": 2
}
